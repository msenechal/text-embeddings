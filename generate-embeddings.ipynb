{
 "cells": [
  {
   "cell_type": "code",
   "execution_count": null,
   "metadata": {
    "colab": {
     "base_uri": "https://localhost:8080/"
    },
    "id": "t704aU-3IQF3",
    "outputId": "1966045e-15c4-4e6f-f230-69a82b390202",
    "scrolled": true
   },
   "outputs": [],
   "source": [
    "!pip install -U neo4j spacy python-decouple\n",
    "!python3 -m spacy download en_core_web_sm"
   ]
  },
  {
   "cell_type": "code",
   "execution_count": null,
   "metadata": {
    "id": "-89BE19RGDmR"
   },
   "outputs": [],
   "source": [
    "from neo4j import GraphDatabase\n",
    "\n",
    "import pandas as pd\n",
    "import spacy\n",
    "from decouple import config\n",
    "\n",
    "uri = config('NEO4J_URI')\n",
    "username = config('NEO4J_USERNAME')\n",
    "password = config('NEO4J_PASSWORD')\n",
    "\n",
    "driver = GraphDatabase.driver(uri, auth=(username, password))\n",
    "\n",
    "nlp = spacy.load('en_core_web_sm')"
   ]
  },
  {
   "cell_type": "code",
   "execution_count": null,
   "metadata": {
    "id": "hOMZVuwdKK-s"
   },
   "outputs": [],
   "source": [
    "def generate_embeddings(text):\n",
    "    doc = nlp(text)\n",
    "    return doc.vector"
   ]
  },
  {
   "cell_type": "code",
   "execution_count": null,
   "metadata": {
    "colab": {
     "base_uri": "https://localhost:8080/"
    },
    "id": "c7mwTZubGH1f",
    "outputId": "c93f87f5-80e7-44bb-f39c-5dee5ba338d5",
    "scrolled": true
   },
   "outputs": [],
   "source": [
    "query = \"MATCH (p:Person) WHERE p.embedding IS NULL RETURN p.email AS email, p.firstName as firstName, p.lastName as lastName\"\n",
    "with driver.session() as session:\n",
    "    result = session.run(query)\n",
    "    personNode = []\n",
    "    personNodeEmbeddings = []\n",
    "    for record in result:\n",
    "        personNode.append((record[\"email\"], record[\"firstName\"], record[\"lastName\"]))\n",
    "    df = pd.DataFrame(personNode, columns=['email', 'firstName', 'lastName'])\n",
    "    df['plainText'] = df['email'] + ' ' + df['firstName'] + ' ' + df['lastName']\n",
    "    df['embedding'] = df['plainText'].apply(generate_embeddings)"
   ]
  },
  {
   "cell_type": "code",
   "execution_count": null,
   "metadata": {
    "id": "xYmFje1MGUQm"
   },
   "outputs": [],
   "source": [
    "with driver.session() as session:\n",
    "        query = \"\"\"\n",
    "        UNWIND $data AS data\n",
    "        MATCH (p:Person)\n",
    "        WHERE p.email = data.email AND p.firstName = data.firstName AND p.lastName = data.lastName\n",
    "        SET p.embedding = data.embedding\n",
    "        \"\"\"\n",
    "        \n",
    "        data_to_write = df.to_dict(orient='records')\n",
    "        for item in data_to_write:\n",
    "            item['embedding'] = item['embedding'].tolist()\n",
    "\n",
    "        batch_size = 500\n",
    "        with driver.session() as session:\n",
    "            for batch_start in range(0, len(data_to_write), batch_size):\n",
    "                batch_end = batch_start + batch_size\n",
    "                batch_data = data_to_write[batch_start:batch_end]\n",
    "                session.run(query, data=batch_data)"
   ]
  },
  {
   "cell_type": "code",
   "execution_count": null,
   "metadata": {
    "id": "8DAa0U5QGWFJ"
   },
   "outputs": [],
   "source": [
    "driver.close()"
   ]
  },
  {
   "cell_type": "code",
   "execution_count": null,
   "metadata": {},
   "outputs": [],
   "source": []
  }
 ],
 "metadata": {
  "colab": {
   "provenance": []
  },
  "kernelspec": {
   "display_name": "Python 3 (ipykernel)",
   "language": "python",
   "name": "python3"
  },
  "language_info": {
   "codemirror_mode": {
    "name": "ipython",
    "version": 3
   },
   "file_extension": ".py",
   "mimetype": "text/x-python",
   "name": "python",
   "nbconvert_exporter": "python",
   "pygments_lexer": "ipython3",
   "version": "3.10.9"
  }
 },
 "nbformat": 4,
 "nbformat_minor": 1
}
